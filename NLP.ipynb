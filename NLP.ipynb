{
  "nbformat": 4,
  "nbformat_minor": 0,
  "metadata": {
    "colab": {
      "name": "DLP(v1)_(1).ipynb",
      "provenance": [],
      "collapsed_sections": []
    },
    "kernelspec": {
      "name": "python3",
      "display_name": "Python 3"
    },
    "language_info": {
      "name": "python"
    },
    "widgets": {
      "application/vnd.jupyter.widget-state+json": {
        "d741914937094b9d816305e6b4a859df": {
          "model_module": "@jupyter-widgets/controls",
          "model_name": "HBoxModel",
          "state": {
            "_view_name": "HBoxView",
            "_dom_classes": [],
            "_model_name": "HBoxModel",
            "_view_module": "@jupyter-widgets/controls",
            "_model_module_version": "1.5.0",
            "_view_count": null,
            "_view_module_version": "1.5.0",
            "box_style": "",
            "layout": "IPY_MODEL_acefce74e9ef49c29e31a9227ec9b8a7",
            "_model_module": "@jupyter-widgets/controls",
            "children": [
              "IPY_MODEL_1dd84bafe949400c96253c35d4d7b0f8",
              "IPY_MODEL_2cd21be4dc5e49ab9f42d10bcc772d5e"
            ]
          },
          "model_module_version": "1.5.0"
        },
        "acefce74e9ef49c29e31a9227ec9b8a7": {
          "model_module": "@jupyter-widgets/base",
          "model_name": "LayoutModel",
          "state": {
            "_view_name": "LayoutView",
            "grid_template_rows": null,
            "right": null,
            "justify_content": null,
            "_view_module": "@jupyter-widgets/base",
            "overflow": null,
            "_model_module_version": "1.2.0",
            "_view_count": null,
            "flex_flow": null,
            "width": null,
            "min_width": null,
            "border": null,
            "align_items": null,
            "bottom": null,
            "_model_module": "@jupyter-widgets/base",
            "top": null,
            "grid_column": null,
            "overflow_y": null,
            "overflow_x": null,
            "grid_auto_flow": null,
            "grid_area": null,
            "grid_template_columns": null,
            "flex": null,
            "_model_name": "LayoutModel",
            "justify_items": null,
            "grid_row": null,
            "max_height": null,
            "align_content": null,
            "visibility": null,
            "align_self": null,
            "height": null,
            "min_height": null,
            "padding": null,
            "grid_auto_rows": null,
            "grid_gap": null,
            "max_width": null,
            "order": null,
            "_view_module_version": "1.2.0",
            "grid_template_areas": null,
            "object_position": null,
            "object_fit": null,
            "grid_auto_columns": null,
            "margin": null,
            "display": null,
            "left": null
          },
          "model_module_version": "1.2.0"
        },
        "1dd84bafe949400c96253c35d4d7b0f8": {
          "model_module": "@jupyter-widgets/controls",
          "model_name": "FloatProgressModel",
          "state": {
            "_view_name": "ProgressView",
            "style": "IPY_MODEL_4b796e77dc8e4c4cadbb41ad31c8ad3a",
            "_dom_classes": [],
            "description": "100%",
            "_model_name": "FloatProgressModel",
            "bar_style": "success",
            "max": 24335,
            "_view_module": "@jupyter-widgets/controls",
            "_model_module_version": "1.5.0",
            "value": 24335,
            "_view_count": null,
            "_view_module_version": "1.5.0",
            "orientation": "horizontal",
            "min": 0,
            "description_tooltip": null,
            "_model_module": "@jupyter-widgets/controls",
            "layout": "IPY_MODEL_35cada89dc2f4520beaeb0a3c6909dad"
          },
          "model_module_version": "1.5.0"
        },
        "2cd21be4dc5e49ab9f42d10bcc772d5e": {
          "model_module": "@jupyter-widgets/controls",
          "model_name": "HTMLModel",
          "state": {
            "_view_name": "HTMLView",
            "style": "IPY_MODEL_51bf0951249547ae91818e252a35d579",
            "_dom_classes": [],
            "description": "",
            "_model_name": "HTMLModel",
            "placeholder": "​",
            "_view_module": "@jupyter-widgets/controls",
            "_model_module_version": "1.5.0",
            "value": " 24335/24335 [04:10&lt;00:00, 97.01it/s]",
            "_view_count": null,
            "_view_module_version": "1.5.0",
            "description_tooltip": null,
            "_model_module": "@jupyter-widgets/controls",
            "layout": "IPY_MODEL_cad380bf27b04e84ad5c295f6bbfa3b3"
          },
          "model_module_version": "1.5.0"
        },
        "4b796e77dc8e4c4cadbb41ad31c8ad3a": {
          "model_module": "@jupyter-widgets/controls",
          "model_name": "ProgressStyleModel",
          "state": {
            "_view_name": "StyleView",
            "_model_name": "ProgressStyleModel",
            "description_width": "initial",
            "_view_module": "@jupyter-widgets/base",
            "_model_module_version": "1.5.0",
            "_view_count": null,
            "_view_module_version": "1.2.0",
            "bar_color": null,
            "_model_module": "@jupyter-widgets/controls"
          },
          "model_module_version": "1.5.0"
        },
        "35cada89dc2f4520beaeb0a3c6909dad": {
          "model_module": "@jupyter-widgets/base",
          "model_name": "LayoutModel",
          "state": {
            "_view_name": "LayoutView",
            "grid_template_rows": null,
            "right": null,
            "justify_content": null,
            "_view_module": "@jupyter-widgets/base",
            "overflow": null,
            "_model_module_version": "1.2.0",
            "_view_count": null,
            "flex_flow": null,
            "width": null,
            "min_width": null,
            "border": null,
            "align_items": null,
            "bottom": null,
            "_model_module": "@jupyter-widgets/base",
            "top": null,
            "grid_column": null,
            "overflow_y": null,
            "overflow_x": null,
            "grid_auto_flow": null,
            "grid_area": null,
            "grid_template_columns": null,
            "flex": null,
            "_model_name": "LayoutModel",
            "justify_items": null,
            "grid_row": null,
            "max_height": null,
            "align_content": null,
            "visibility": null,
            "align_self": null,
            "height": null,
            "min_height": null,
            "padding": null,
            "grid_auto_rows": null,
            "grid_gap": null,
            "max_width": null,
            "order": null,
            "_view_module_version": "1.2.0",
            "grid_template_areas": null,
            "object_position": null,
            "object_fit": null,
            "grid_auto_columns": null,
            "margin": null,
            "display": null,
            "left": null
          },
          "model_module_version": "1.2.0"
        },
        "51bf0951249547ae91818e252a35d579": {
          "model_module": "@jupyter-widgets/controls",
          "model_name": "DescriptionStyleModel",
          "state": {
            "_view_name": "StyleView",
            "_model_name": "DescriptionStyleModel",
            "description_width": "",
            "_view_module": "@jupyter-widgets/base",
            "_model_module_version": "1.5.0",
            "_view_count": null,
            "_view_module_version": "1.2.0",
            "_model_module": "@jupyter-widgets/controls"
          },
          "model_module_version": "1.5.0"
        },
        "cad380bf27b04e84ad5c295f6bbfa3b3": {
          "model_module": "@jupyter-widgets/base",
          "model_name": "LayoutModel",
          "state": {
            "_view_name": "LayoutView",
            "grid_template_rows": null,
            "right": null,
            "justify_content": null,
            "_view_module": "@jupyter-widgets/base",
            "overflow": null,
            "_model_module_version": "1.2.0",
            "_view_count": null,
            "flex_flow": null,
            "width": null,
            "min_width": null,
            "border": null,
            "align_items": null,
            "bottom": null,
            "_model_module": "@jupyter-widgets/base",
            "top": null,
            "grid_column": null,
            "overflow_y": null,
            "overflow_x": null,
            "grid_auto_flow": null,
            "grid_area": null,
            "grid_template_columns": null,
            "flex": null,
            "_model_name": "LayoutModel",
            "justify_items": null,
            "grid_row": null,
            "max_height": null,
            "align_content": null,
            "visibility": null,
            "align_self": null,
            "height": null,
            "min_height": null,
            "padding": null,
            "grid_auto_rows": null,
            "grid_gap": null,
            "max_width": null,
            "order": null,
            "_view_module_version": "1.2.0",
            "grid_template_areas": null,
            "object_position": null,
            "object_fit": null,
            "grid_auto_columns": null,
            "margin": null,
            "display": null,
            "left": null
          },
          "model_module_version": "1.2.0"
        }
      }
    },
    "accelerator": "GPU"
  },
  "cells": [
    {
      "cell_type": "code",
      "metadata": {
        "colab": {
          "base_uri": "https://localhost:8080/"
        },
        "id": "Cf6cPjHODq2o",
        "outputId": "2fb1be85-0658-40c4-f329-b907506fe7c0"
      },
      "source": [
        "import tensorflow as tf\n",
        "import pandas as pd\n",
        "import nltk\n",
        "import numpy as np\n",
        "from keras.preprocessing.text import Tokenizer\n",
        "from keras.preprocessing import sequence\n",
        "from nltk.tokenize import word_tokenize\n",
        "nltk.download('punkt')\n",
        "from sklearn import preprocessing\n",
        "from nltk.stem import PorterStemmer\n",
        "from keras.layers import MaxPooling1D\n",
        "from keras.models import Sequential\n",
        "from keras.layers.recurrent import LSTM, GRU\n",
        "from keras.layers.core import Dense, Activation, Dropout\n",
        "from keras.layers.embeddings import Embedding\n",
        "from keras.layers import SpatialDropout1D\n",
        "from keras.layers import Conv1D, Bidirectional\n",
        "from sklearn.model_selection import train_test_split\n",
        "from keras.preprocessing import sequence\n",
        "from keras.preprocessing.text import Tokenizer\n",
        "import matplotlib.pyplot as plt\n",
        "from keras.callbacks import ModelCheckpoint\n",
        "from nltk.corpus import stopwords\n",
        "import re"
      ],
      "execution_count": null,
      "outputs": [
        {
          "output_type": "stream",
          "text": [
            "[nltk_data] Downloading package punkt to /root/nltk_data...\n",
            "[nltk_data]   Package punkt is already up-to-date!\n"
          ],
          "name": "stdout"
        }
      ]
    },
    {
      "cell_type": "markdown",
      "metadata": {
        "id": "19RQi2d9a9hB"
      },
      "source": [
        "**Downloading Dataset**"
      ]
    },
    {
      "cell_type": "code",
      "metadata": {
        "colab": {
          "base_uri": "https://localhost:8080/"
        },
        "id": "bt3HbDV5EAjC",
        "outputId": "f1381b53-53b4-48b0-92ef-08de19b8c3b3"
      },
      "source": [
        "\n",
        "df = pd.read_csv('https://github.com/Hsankesara/The-Tweets-of-Wisdom/raw/master/tweets.csv')\n",
        "print('percent of missing values=',df.isnull().mean().sort_values(ascending=False))\n",
        "print('authors:',len(df.author_name))\n",
        "df.dropna(inplace=True)\n",
        "df.drop(columns=['created_at','likes', 'retweets','handle'],inplace=True)\n",
        "df.reset_index(inplace=True)\n",
        "df.drop(columns='index',inplace=True)\n",
        "df=df.groupby(['author_name']).filter(lambda x : len(x)>50)\n",
        "print(df['author_name'].value_counts())\n",
        "print('New shape:',df.shape)\n",
        "num_of_authors=df['author_name'].value_counts().count()\n",
        "print(\"Number of Authors,tweeting more than 50: \",num_of_authors)"
      ],
      "execution_count": null,
      "outputs": [
        {
          "output_type": "stream",
          "text": [
            "percent of missing values= tweet_content    0.011602\n",
            "author_name      0.000032\n",
            "retweets         0.000000\n",
            "likes            0.000000\n",
            "handle           0.000000\n",
            "created_at       0.000000\n",
            "dtype: float64\n",
            "authors: 31115\n",
            "Thomas Sowell                            1909\n",
            "The Ancient Sage                         1678\n",
            "Orange Book                              1661\n",
            "Thibaut                                  1314\n",
            "Krishna                                  1208\n",
            "seneca                                   1172\n",
            "LifeMathMoney                            1048\n",
            "Alexander J.A Cortes                      955\n",
            "Millstoic                                 915\n",
            "ChuChuTrain                               885\n",
            "deep_thrill                               860\n",
            "Wealth Theory ™                           824\n",
            "The Stoic Emperor                         817\n",
            "Michael                                   739\n",
            "Zen Black                                 736\n",
            "Ed Latimore                               718\n",
            "Ralph Napolitano                          710\n",
            "modest proposal                           656\n",
            "Sahil Lavingia                            642\n",
            "Uncanny Insights                          611\n",
            "Paul Graham                               495\n",
            "Benjamin                                  437\n",
            "Noah Smith 🐇                              411\n",
            "MartyrMade                                338\n",
            "Mason 🏃🏻✂️                                307\n",
            "Ubermensch                                285\n",
            "Naval                                     284\n",
            "Rorty Witt                                255\n",
            "Ki Book Club: The Best Book Summaries     244\n",
            "vk                                        207\n",
            "DR22                                      181\n",
            "ForeverAlphaBlog 💪🏻+🍷                     145\n",
            "Magic Johnson ⌚️x💰                        126\n",
            "AymPlanet                                 105\n",
            "J.                                         93\n",
            "48 Laws Of Power Quotes                    87\n",
            "Fateh Singh                                81\n",
            "Gumroad                                    73\n",
            "Dune Quotes                                68\n",
            "Marcus Aurelius Quotes                     55\n",
            "Name: author_name, dtype: int64\n",
            "New shape: (24335, 2)\n",
            "Number of Authors,tweeting more than 50:  40\n"
          ],
          "name": "stdout"
        }
      ]
    },
    {
      "cell_type": "markdown",
      "metadata": {
        "id": "vwRdB3wZKKE9"
      },
      "source": [
        "**Preprocessing**"
      ]
    },
    {
      "cell_type": "code",
      "metadata": {
        "colab": {
          "base_uri": "https://localhost:8080/"
        },
        "id": "Qtl6T1yvEF08",
        "outputId": "fc5d6008-2d98-489e-aedb-7d4268b23e42"
      },
      "source": [
        "for each_item in '?:\\/\\/(\\.)?[-a-z0-9@:%.\\+~#=]{1,256}\\.[a-z0-9()]{1,6}\\b([-a-z0-9()@:%\\+.~#?&\\/=]*)':\n",
        "  df.weet_content = df.tweet_content.str.replace(r'{}'.format(each_item), '', regex=True)\n",
        "\n",
        "df.tweet_content = df.tweet_content.str.replace(r'https', '', regex=True)\n",
        "df.tweet_content = df.tweet_content.str.replace(r'www', '', regex=True)"
      ],
      "execution_count": null,
      "outputs": [
        {
          "output_type": "stream",
          "text": [
            "/usr/local/lib/python3.7/dist-packages/ipykernel_launcher.py:2: UserWarning: Pandas doesn't allow columns to be created via a new attribute name - see https://pandas.pydata.org/pandas-docs/stable/indexing.html#attribute-access\n",
            "  \n"
          ],
          "name": "stderr"
        }
      ]
    },
    {
      "cell_type": "markdown",
      "metadata": {
        "id": "k-eunrbZKj0p"
      },
      "source": [
        "**Removing Emojis**"
      ]
    },
    {
      "cell_type": "code",
      "metadata": {
        "id": "WOGdw0nLEgtR",
        "colab": {
          "base_uri": "https://localhost:8080/"
        },
        "outputId": "03d6f16d-4794-4e2c-f5b5-30d8b67977cb"
      },
      "source": [
        "def deEmojify(text):\n",
        "    regrex_pattern = re.compile(\"[\"\n",
        "                               u\"\\U0001F600-\\U0001F64F\"  # emoticons\n",
        "                               u\"\\U0001F300-\\U0001F5FF\"  # symbols & pictographs\n",
        "                               u\"\\U0001F680-\\U0001F6FF\"  # transport & map symbols\n",
        "                               u\"\\U0001F1E0-\\U0001F1FF\"  # flags (iOS)\n",
        "                               u\"\\U00002500-\\U00002BEF\"  # chinese char\n",
        "                               u\"\\U00002702-\\U000027B0\"\n",
        "                               u\"\\U00002702-\\U000027B0\"\n",
        "                               u\"\\U000024C2-\\U0001F251\"\n",
        "                               u\"\\U0001f926-\\U0001f937\"\n",
        "                               u\"\\U00010000-\\U0010ffff\"\n",
        "                               u\"\\u2640-\\u2642\"\n",
        "                               u\"\\u2600-\\u2B55\"\n",
        "                               u\"\\u200d\"\n",
        "                               u\"\\u23cf\"\n",
        "                               u\"\\u23e9\"\n",
        "                               u\"\\u231a\"\n",
        "                               u\"\\ufe0f\"  # dingbats\n",
        "                               u\"\\u3030\"\n",
        "                               \"]+\", flags=re.UNICODE)\n",
        "    return regrex_pattern.sub(r'',text)\n",
        "\n",
        "df.author_name= df.author_name.apply(deEmojify)\n",
        "print(df['author_name'].value_counts())"
      ],
      "execution_count": null,
      "outputs": [
        {
          "output_type": "stream",
          "text": [
            "Thomas Sowell                            1909\n",
            "The Ancient Sage                         1678\n",
            "Orange Book                              1661\n",
            "Thibaut                                  1314\n",
            "Krishna                                  1208\n",
            "seneca                                   1172\n",
            "LifeMathMoney                            1048\n",
            "Alexander J.A Cortes                      955\n",
            "Millstoic                                 915\n",
            "ChuChuTrain                               885\n",
            "deep_thrill                               860\n",
            "Wealth Theory ™                           824\n",
            "The Stoic Emperor                         817\n",
            "Michael                                   739\n",
            "Zen Black                                 736\n",
            "Ed Latimore                               718\n",
            "Ralph Napolitano                          710\n",
            "modest proposal                           656\n",
            "Sahil Lavingia                            642\n",
            "Uncanny Insights                          611\n",
            "Paul Graham                               495\n",
            "Benjamin                                  437\n",
            "Noah Smith                                411\n",
            "MartyrMade                                338\n",
            "Mason                                     307\n",
            "Ubermensch                                285\n",
            "Naval                                     284\n",
            "Rorty Witt                                255\n",
            "Ki Book Club: The Best Book Summaries     244\n",
            "vk                                        207\n",
            "DR22                                      181\n",
            "ForeverAlphaBlog +                        145\n",
            "Magic Johnson x                           126\n",
            "AymPlanet                                 105\n",
            "J.                                         93\n",
            "48 Laws Of Power Quotes                    87\n",
            "Fateh Singh                                81\n",
            "Gumroad                                    73\n",
            "Dune Quotes                                68\n",
            "Marcus Aurelius Quotes                     55\n",
            "Name: author_name, dtype: int64\n"
          ],
          "name": "stdout"
        }
      ]
    },
    {
      "cell_type": "markdown",
      "metadata": {
        "id": "lfvugYLkKrEO"
      },
      "source": [
        "**Stemming**"
      ]
    },
    {
      "cell_type": "code",
      "metadata": {
        "id": "9-AJ8cPMFDlo",
        "colab": {
          "base_uri": "https://localhost:8080/",
          "height": 140,
          "referenced_widgets": [
            "d741914937094b9d816305e6b4a859df",
            "acefce74e9ef49c29e31a9227ec9b8a7",
            "1dd84bafe949400c96253c35d4d7b0f8",
            "2cd21be4dc5e49ab9f42d10bcc772d5e",
            "4b796e77dc8e4c4cadbb41ad31c8ad3a",
            "35cada89dc2f4520beaeb0a3c6909dad",
            "51bf0951249547ae91818e252a35d579",
            "cad380bf27b04e84ad5c295f6bbfa3b3"
          ]
        },
        "outputId": "b61c6f3d-be8c-410a-9803-2f9cefc1b610"
      },
      "source": [
        "from nltk.corpus import stopwords\n",
        "nltk.download('stopwords')\n",
        "from tqdm.notebook import tqdm\n",
        "import nltk\n",
        "nltk.download('punkt')\n",
        "from nltk.stem import PorterStemmer\n",
        "porter_stemmer=PorterStemmer()\n",
        "from nltk.tokenize import word_tokenize\n",
        "documents = []\n",
        "for tweet in tqdm(df.tweet_content):\n",
        "  tweet = deEmojify(tweet)\n",
        "  tweet = word_tokenize(tweet)\n",
        "  tweet = [porter_stemmer.stem(token) for token in tweet if token not in set(stopwords.words('english'))]\n",
        "  documents.append(tweet)"
      ],
      "execution_count": null,
      "outputs": [
        {
          "output_type": "stream",
          "text": [
            "[nltk_data] Downloading package stopwords to /root/nltk_data...\n",
            "[nltk_data]   Package stopwords is already up-to-date!\n",
            "[nltk_data] Downloading package punkt to /root/nltk_data...\n",
            "[nltk_data]   Package punkt is already up-to-date!\n"
          ],
          "name": "stdout"
        },
        {
          "output_type": "display_data",
          "data": {
            "application/vnd.jupyter.widget-view+json": {
              "model_id": "d741914937094b9d816305e6b4a859df",
              "version_minor": 0,
              "version_major": 2
            },
            "text/plain": [
              "HBox(children=(FloatProgress(value=0.0, max=24335.0), HTML(value='')))"
            ]
          },
          "metadata": {
            "tags": []
          }
        },
        {
          "output_type": "stream",
          "text": [
            "\n"
          ],
          "name": "stdout"
        }
      ]
    },
    {
      "cell_type": "markdown",
      "metadata": {
        "id": "hmeF2OowKESL"
      },
      "source": [
        "**Word2vec Model**"
      ]
    },
    {
      "cell_type": "code",
      "metadata": {
        "id": "WVS54ewQGAqJ"
      },
      "source": [
        "import gensim\n",
        "from gensim.models import  Word2Vec\n",
        "model = Word2Vec(sentences=documents, size=30)\n",
        "model.wv.save_word2vec_format('tweet_embedding_word2vec.txt', binary=False)"
      ],
      "execution_count": null,
      "outputs": []
    },
    {
      "cell_type": "markdown",
      "metadata": {
        "id": "92KJdT-1FrFn"
      },
      "source": [
        "**Downloading Glove Pre-trained Model and Unziping**"
      ]
    },
    {
      "cell_type": "code",
      "metadata": {
        "colab": {
          "base_uri": "https://localhost:8080/"
        },
        "id": "v48B1qqxFoWq",
        "outputId": "47915cdf-625c-43c4-a427-5f83e6f77d83"
      },
      "source": [
        "\n",
        "!wget http://nlp.stanford.edu/data/glove.twitter.27B.zip\n",
        "!unzip glove*.zip\n",
        "!ls\n",
        "!pwd"
      ],
      "execution_count": null,
      "outputs": [
        {
          "output_type": "stream",
          "text": [
            "--2021-07-22 10:32:02--  http://nlp.stanford.edu/data/glove.twitter.27B.zip\n",
            "Resolving nlp.stanford.edu (nlp.stanford.edu)... 171.64.67.140\n",
            "Connecting to nlp.stanford.edu (nlp.stanford.edu)|171.64.67.140|:80... connected.\n",
            "HTTP request sent, awaiting response... 302 Found\n",
            "Location: https://nlp.stanford.edu/data/glove.twitter.27B.zip [following]\n",
            "--2021-07-22 10:32:02--  https://nlp.stanford.edu/data/glove.twitter.27B.zip\n",
            "Connecting to nlp.stanford.edu (nlp.stanford.edu)|171.64.67.140|:443... connected.\n",
            "HTTP request sent, awaiting response... 301 Moved Permanently\n",
            "Location: http://downloads.cs.stanford.edu/nlp/data/glove.twitter.27B.zip [following]\n",
            "--2021-07-22 10:32:02--  http://downloads.cs.stanford.edu/nlp/data/glove.twitter.27B.zip\n",
            "Resolving downloads.cs.stanford.edu (downloads.cs.stanford.edu)... 171.64.64.22\n",
            "Connecting to downloads.cs.stanford.edu (downloads.cs.stanford.edu)|171.64.64.22|:80... connected.\n",
            "HTTP request sent, awaiting response... 200 OK\n",
            "Length: 1520408563 (1.4G) [application/zip]\n",
            "Saving to: ‘glove.twitter.27B.zip’\n",
            "\n",
            "glove.twitter.27B.z 100%[===================>]   1.42G  5.10MB/s    in 4m 45s  \n",
            "\n",
            "2021-07-22 10:36:48 (5.08 MB/s) - ‘glove.twitter.27B.zip’ saved [1520408563/1520408563]\n",
            "\n",
            "Archive:  glove.twitter.27B.zip\n",
            "  inflating: glove.twitter.27B.25d.txt  \n",
            "  inflating: glove.twitter.27B.50d.txt  \n",
            "  inflating: glove.twitter.27B.100d.txt  \n",
            "  inflating: glove.twitter.27B.200d.txt  \n",
            "glove.twitter.27B.100d.txt  glove.twitter.27B.zip\n",
            "glove.twitter.27B.200d.txt  sample_data\n",
            "glove.twitter.27B.25d.txt   tweet_embedding_word2vec.txt\n",
            "glove.twitter.27B.50d.txt\n",
            "/content\n"
          ],
          "name": "stdout"
        }
      ]
    },
    {
      "cell_type": "markdown",
      "metadata": {
        "id": "58-YNSIlPsf-"
      },
      "source": [
        "**Glove Model**"
      ]
    },
    {
      "cell_type": "code",
      "metadata": {
        "colab": {
          "base_uri": "https://localhost:8080/"
        },
        "id": "x8ExeMLSPLT9",
        "outputId": "266a9952-dcda-4ddf-c4e7-915b0a9df58d"
      },
      "source": [
        "#Extacting word embedding\n",
        "embeddings_index_glove= {}\n",
        "fglove = open('glove.twitter.27B.50d.txt', encoding='utf-8')\n",
        "for line in fglove:\n",
        "    values = line.split()\n",
        "    word = values[0]\n",
        "    coefs = np.asarray(values[1:], dtype='float32')\n",
        "    embeddings_index_glove[word] = coefs\n",
        "fglove.close()\n",
        "\n",
        "print('Found %s word vectors.' % len(embeddings_index_glove))"
      ],
      "execution_count": null,
      "outputs": [
        {
          "output_type": "stream",
          "text": [
            "Found 1193514 word vectors.\n"
          ],
          "name": "stdout"
        }
      ]
    },
    {
      "cell_type": "markdown",
      "metadata": {
        "id": "Qw2e_mISLC32"
      },
      "source": [
        "**Extracting word embedding from tweet_embedding_word2vec.txt**\n",
        "\n",
        "\n"
      ]
    },
    {
      "cell_type": "code",
      "metadata": {
        "colab": {
          "base_uri": "https://localhost:8080/"
        },
        "id": "AgqwCWmtGEVB",
        "outputId": "b209d466-611f-42be-e644-d0d8aff9f5c8"
      },
      "source": [
        "print('Indexing word vectors. 30d')\n",
        "\n",
        "embeddings_index= {}\n",
        "f = open('tweet_embedding_word2vec.txt', encoding='utf-8')\n",
        "for line in f:\n",
        "    values = line.split()\n",
        "    word = values[0] #IndexError: list index out of range\n",
        "    coefs = np.asarray(values[1:], dtype='float32')\n",
        "    embeddings_index[word] = coefs\n",
        "f.close()\n",
        "\n",
        "print('Found %s word vectors.' % len(embeddings_index))\n"
      ],
      "execution_count": null,
      "outputs": [
        {
          "output_type": "stream",
          "text": [
            "Indexing word vectors. 30d\n",
            "Found 5701 word vectors.\n"
          ],
          "name": "stdout"
        }
      ]
    },
    {
      "cell_type": "markdown",
      "metadata": {
        "id": "VW8xJuhgWLxY"
      },
      "source": [
        "**Tokenization**"
      ]
    },
    {
      "cell_type": "code",
      "metadata": {
        "colab": {
          "base_uri": "https://localhost:8080/"
        },
        "id": "eb-74MOLWMqE",
        "outputId": "4198c171-fafe-43c4-95f5-646305ef7482"
      },
      "source": [
        "max_length=0\n",
        "for i in documents:\n",
        "  x=len(i) \n",
        "  if (x > max_length):\n",
        "    max_length=x\n",
        "\n",
        "tknizer = Tokenizer()\n",
        "tknizer.fit_on_texts(documents)\n",
        "sequences = tknizer.texts_to_sequences(documents)\n",
        "sequences = sequence.pad_sequences(sequences,maxlen=max_length, padding='post', value=0)\n",
        "max_vocab_size=len(tknizer.word_index)+1\n",
        "items= tknizer.word_index.items()\n",
        "\n",
        "print(\"max_vocab_size=\",max_vocab_size)\n",
        "print(\"max_length=\",max_length)"
      ],
      "execution_count": null,
      "outputs": [
        {
          "output_type": "stream",
          "text": [
            "max_vocab_size= 21189\n",
            "max_length= 128\n"
          ],
          "name": "stdout"
        }
      ]
    },
    {
      "cell_type": "markdown",
      "metadata": {
        "id": "JuzkBl02bK2m"
      },
      "source": [
        "**Creating a matrix of word vectors from the loaded Glove**"
      ]
    },
    {
      "cell_type": "code",
      "metadata": {
        "id": "HCMdP1cwbOuE"
      },
      "source": [
        "embedding_matrix_glove = np.zeros((max_vocab_size, 30))\n",
        "for word, i in items:\n",
        "  if i> max_vocab_size:\n",
        "    continue\n",
        "  embedding_vector_glove = embeddings_index_glove.get(word)\n",
        "  if embedding_vector_glove is not None:\n",
        "    embeddings_index_glove[i] = embedding_vector_glove"
      ],
      "execution_count": null,
      "outputs": []
    },
    {
      "cell_type": "markdown",
      "metadata": {
        "id": "fKtRIydkQ1F_"
      },
      "source": [
        "**Creating a matrix of word vectors from the loaded Word2vec**"
      ]
    },
    {
      "cell_type": "code",
      "metadata": {
        "id": "4PHMa7ayQzUa"
      },
      "source": [
        "embedding_matrix = np.zeros((max_vocab_size, 30))\n",
        "for word, i in items:\n",
        "  if i> max_vocab_size:\n",
        "    continue\n",
        "  embedding_vector = embeddings_index.get(word)\n",
        "  if embedding_vector is not None:\n",
        "    embedding_matrix[i] = embedding_vector"
      ],
      "execution_count": null,
      "outputs": []
    },
    {
      "cell_type": "code",
      "metadata": {
        "colab": {
          "base_uri": "https://localhost:8080/"
        },
        "id": "pDFiCR_3N6IK",
        "outputId": "55e1aa14-039b-4bd4-d08e-dcbd77f76a8d"
      },
      "source": [
        "lblcoder = preprocessing.LabelEncoder()\n",
        "ylabels = lblcoder.fit_transform(df.author_name.values)\n",
        "print(\"labels:\",ylabels)"
      ],
      "execution_count": null,
      "outputs": [
        {
          "output_type": "stream",
          "text": [
            "labels: [21 21 21 ... 33 33 33]\n"
          ],
          "name": "stdout"
        }
      ]
    },
    {
      "cell_type": "markdown",
      "metadata": {
        "id": "phHi4hUuNy9-"
      },
      "source": [
        "**Dividing Dataset(80% for trainingset,20% for testset)**"
      ]
    },
    {
      "cell_type": "code",
      "metadata": {
        "id": "vfq2L4GKG_XI"
      },
      "source": [
        "y=df['author_name']\n",
        "xtrain, xtest, ytrain, ytest = train_test_split(sequences,ylabels, random_state=42, shuffle=True, test_size=0.2,stratify=y)"
      ],
      "execution_count": null,
      "outputs": []
    },
    {
      "cell_type": "code",
      "metadata": {
        "colab": {
          "base_uri": "https://localhost:8080/"
        },
        "id": "xdVaSaWX5JCV",
        "outputId": "29ab5341-cf02-43f9-bdb0-9dedc02e2007"
      },
      "source": [
        "xtrainshape=xtrain.shape[0]\n",
        "xtestshape=xtest.shape[0]\n",
        "print(\"xtrain.shape:\",xtrainshape)\n",
        "print(\"xtest.shape:\",xtestshape)"
      ],
      "execution_count": null,
      "outputs": [
        {
          "output_type": "stream",
          "text": [
            "xtrain.shape: 19468\n",
            "xtest.shape: 4867\n"
          ],
          "name": "stdout"
        }
      ]
    },
    {
      "cell_type": "code",
      "metadata": {
        "id": "sqtZ7GJ0lsps",
        "colab": {
          "base_uri": "https://localhost:8080/"
        },
        "outputId": "20e2f199-658f-42a1-8fd5-f90daa1c8942"
      },
      "source": [
        "from tensorflow.keras.utils import to_categorical\n",
        "train_labels = to_categorical(ytrain, dtype =\"uint8\")\n",
        "test_labels = to_categorical(ytest, dtype =\"uint8\")\n",
        "num_classes = train_labels.shape[1]\n",
        "print('There are {} unique authors'.format(num_classes))\n",
        "print('Shape of the training labels:', train_labels.shape)\n",
        "print('Shape of the testing labels:', test_labels.shape)\n",
        "print('An example of the labels:', train_labels[0])"
      ],
      "execution_count": null,
      "outputs": [
        {
          "output_type": "stream",
          "text": [
            "There are 40 unique authors\n",
            "Shape of the training labels: (19468, 40)\n",
            "Shape of the testing labels: (4867, 40)\n",
            "An example of the labels: [0 0 0 0 0 0 0 0 0 0 0 0 0 0 0 0 0 0 0 0 0 0 0 0 0 0 1 0 0 0 0 0 0 0 0 0 0\n",
            " 0 0 0]\n"
          ],
          "name": "stdout"
        }
      ]
    },
    {
      "cell_type": "markdown",
      "metadata": {
        "id": "WxDTrA-bPL19"
      },
      "source": [
        "**Bidirectional LSTM(Word2vec)**"
      ]
    },
    {
      "cell_type": "code",
      "metadata": {
        "colab": {
          "base_uri": "https://localhost:8080/"
        },
        "id": "gZp2nB2vxceQ",
        "outputId": "3cf3fb4f-ad8d-49cd-eb14-df1fefd21c9c"
      },
      "source": [
        "model1 = Sequential()\n",
        "model1.add(Embedding(max_vocab_size,\n",
        " 30,\n",
        " weights=[embedding_matrix],\n",
        " input_length=max_length,\n",
        " trainable=False))\n",
        "model1.add(Bidirectional(LSTM(30, return_sequences=True)))\n",
        "model1.add(Dropout(0.2))\n",
        "model1.add(Bidirectional(LSTM(30, return_sequences=True)))\n",
        "model1.add(Dense(1024, activation='relu'))\n",
        "model1.add(Dropout(0.2))\n",
        "model1.add(Dense(64, activation='relu'))\n",
        "model1.add(tf.keras.layers.Flatten())\n",
        "model1.add(Dense(40, activation='softmax'))\n",
        "xtrain_tf = tf.convert_to_tensor(xtrain[:xtrainshape], np.int32)\n",
        "xtest_tf = tf.convert_to_tensor(xtest[:xtestshape], np.int32)\n",
        "ytrain_tf = tf.convert_to_tensor(ytrain[:xtrainshape], np.int32)\n",
        "ytest_tf = tf.convert_to_tensor(ytest[:xtestshape], np.int32)\n",
        "model1.compile(loss=tf.keras.losses.SparseCategoricalCrossentropy(), optimizer='nadam', metrics=['accuracy'])\n",
        "history1_Word2vec = model1.fit(xtrain_tf ,ytrain_tf, batch_size=64, epochs=10, verbose=1, validation_data=(xtest_tf, ytest_tf))\n",
        "model1.summary()"
      ],
      "execution_count": null,
      "outputs": [
        {
          "output_type": "stream",
          "text": [
            "Epoch 1/10\n",
            "305/305 [==============================] - 551s 2s/step - loss: 3.0912 - accuracy: 0.1704 - val_loss: 2.8039 - val_accuracy: 0.2246\n",
            "Epoch 2/10\n",
            "305/305 [==============================] - 523s 2s/step - loss: 2.5843 - accuracy: 0.2711 - val_loss: 2.6613 - val_accuracy: 0.2696\n",
            "Epoch 3/10\n",
            "305/305 [==============================] - 530s 2s/step - loss: 2.4118 - accuracy: 0.3129 - val_loss: 2.4531 - val_accuracy: 0.3057\n",
            "Epoch 4/10\n",
            "305/305 [==============================] - 530s 2s/step - loss: 2.2649 - accuracy: 0.3489 - val_loss: 2.4161 - val_accuracy: 0.3158\n",
            "Epoch 5/10\n",
            "305/305 [==============================] - 532s 2s/step - loss: 2.1811 - accuracy: 0.3665 - val_loss: 2.4599 - val_accuracy: 0.3053\n",
            "Epoch 6/10\n",
            "305/305 [==============================] - 543s 2s/step - loss: 2.0877 - accuracy: 0.3928 - val_loss: 2.3685 - val_accuracy: 0.3316\n",
            "Epoch 7/10\n",
            "305/305 [==============================] - 547s 2s/step - loss: 1.9991 - accuracy: 0.4183 - val_loss: 2.4334 - val_accuracy: 0.3261\n",
            "Epoch 8/10\n",
            "305/305 [==============================] - 532s 2s/step - loss: 1.9175 - accuracy: 0.4330 - val_loss: 2.4736 - val_accuracy: 0.3246\n",
            "Epoch 9/10\n",
            "305/305 [==============================] - 531s 2s/step - loss: 1.8310 - accuracy: 0.4539 - val_loss: 2.5502 - val_accuracy: 0.3090\n",
            "Epoch 10/10\n",
            "305/305 [==============================] - 528s 2s/step - loss: 1.7853 - accuracy: 0.4777 - val_loss: 2.4735 - val_accuracy: 0.3261\n",
            "Model: \"sequential_4\"\n",
            "_________________________________________________________________\n",
            "Layer (type)                 Output Shape              Param #   \n",
            "=================================================================\n",
            "embedding_4 (Embedding)      (None, 128, 30)           635670    \n",
            "_________________________________________________________________\n",
            "bidirectional_5 (Bidirection (None, 128, 60)           14640     \n",
            "_________________________________________________________________\n",
            "dropout_2 (Dropout)          (None, 128, 60)           0         \n",
            "_________________________________________________________________\n",
            "bidirectional_6 (Bidirection (None, 128, 60)           21840     \n",
            "_________________________________________________________________\n",
            "dense_12 (Dense)             (None, 128, 1024)         62464     \n",
            "_________________________________________________________________\n",
            "dropout_3 (Dropout)          (None, 128, 1024)         0         \n",
            "_________________________________________________________________\n",
            "dense_13 (Dense)             (None, 128, 64)           65600     \n",
            "_________________________________________________________________\n",
            "module_wrapper_4 (ModuleWrap (None, 8192)              0         \n",
            "_________________________________________________________________\n",
            "dense_14 (Dense)             (None, 40)                327720    \n",
            "=================================================================\n",
            "Total params: 1,127,934\n",
            "Trainable params: 492,264\n",
            "Non-trainable params: 635,670\n",
            "_________________________________________________________________\n"
          ],
          "name": "stdout"
        }
      ]
    },
    {
      "cell_type": "markdown",
      "metadata": {
        "id": "D0c1gWDJoGTr"
      },
      "source": [
        "**Visualizing Model History1 for loss(Word2vec)**"
      ]
    },
    {
      "cell_type": "code",
      "metadata": {
        "id": "gVSQXHwjsQQO",
        "colab": {
          "base_uri": "https://localhost:8080/",
          "height": 295
        },
        "outputId": "11c35806-0f42-461c-80b5-2f0647da278e"
      },
      "source": [
        "import matplotlib.pyplot as plt\n",
        "plt.plot(history1_Word2vec.history['loss'])\n",
        "plt.plot(history1_Word2vec.history['val_loss'])\n",
        "plt.title('model loss')\n",
        "plt.ylabel('loss')\n",
        "plt.xlabel('epoch')\n",
        "plt.legend(['train', 'test'], loc='upper left')\n",
        "plt.show()"
      ],
      "execution_count": null,
      "outputs": [
        {
          "output_type": "display_data",
          "data": {
            "image/png": "[encoded data removed]",
            "text/plain": [
              "<Figure size 432x288 with 1 Axes>"
            ]
          },
          "metadata": {
            "tags": [],
            "needs_background": "light"
          }
        }
      ]
    },
    {
      "cell_type": "markdown",
      "metadata": {
        "id": "-e_RmwmosS_L"
      },
      "source": [
        "**Visualizing Model History1 for accuracy(Word2vec)**\n"
      ]
    },
    {
      "cell_type": "code",
      "metadata": {
        "id": "MOwQaoGBsSWr",
        "colab": {
          "base_uri": "https://localhost:8080/",
          "height": 295
        },
        "outputId": "1f8bf5d3-7d54-4a95-9927-c6094fee1eca"
      },
      "source": [
        "plt.plot(history1_Word2vec.history['accuracy'])\n",
        "plt.plot(history1_Word2vec.history['val_accuracy'])\n",
        "plt.title('model accuracy')\n",
        "plt.ylabel('accuracy')\n",
        "plt.xlabel('epoch')\n",
        "plt.legend(['train', 'test'], loc='upper left')\n",
        "plt.show()"
      ],
      "execution_count": null,
      "outputs": [
        {
          "output_type": "display_data",
          "data": {
            "image/png": "[encoded data removed]",
            "text/plain": [
              "<Figure size 432x288 with 1 Axes>"
            ]
          },
          "metadata": {
            "tags": [],
            "needs_background": "light"
          }
        }
      ]
    },
    {
      "cell_type": "markdown",
      "metadata": {
        "id": "-IMShJPXPeiI"
      },
      "source": [
        "**CNN-LSTM joined Model(Word2vec)**"
      ]
    },
    {
      "cell_type": "code",
      "metadata": {
        "colab": {
          "base_uri": "https://localhost:8080/"
        },
        "id": "KI11F2-1Z_Eh",
        "outputId": "a48d60bc-fdea-45e5-8e0e-fa5b03f222f4"
      },
      "source": [
        "CNNmodel = Sequential()\n",
        "CNNmodel.add(Embedding(max_vocab_size,\n",
        " 30,\n",
        " weights=[embedding_matrix],\n",
        " input_length=max_length,\n",
        " trainable=False))\n",
        "CNNmodel.add(Conv1D(filters=32, kernel_size=3, padding='same', activation='relu'))\n",
        "CNNmodel.add(Bidirectional(LSTM(30, dropout=0.3, recurrent_dropout=0.3, return_sequences=True)))\n",
        "CNNmodel.add(Dense(1024, activation='relu'))\n",
        "CNNmodel.add(Dense(1024, activation='relu'))\n",
        "CNNmodel.add(tf.keras.layers.Flatten())\n",
        "CNNmodel.add(Dense(40, activation='softmax'))\n",
        "CNNmodel.compile(loss=tf.keras.losses.SparseCategoricalCrossentropy(), optimizer='nadam', metrics=['accuracy'])\n",
        "history2_Word2vec = CNNmodel.fit(xtrain_tf ,ytrain_tf, batch_size=64, epochs=10, verbose=1, validation_data=(xtest_tf, ytest_tf))\n",
        "CNNmodel.summary()"
      ],
      "execution_count": null,
      "outputs": [
        {
          "output_type": "stream",
          "text": [
            "Epoch 1/10\n",
            "305/305 [==============================] - 423s 1s/step - loss: 3.0873 - accuracy: 0.1675 - val_loss: 2.7295 - val_accuracy: 0.2507\n",
            "Epoch 2/10\n",
            "305/305 [==============================] - 386s 1s/step - loss: 2.5358 - accuracy: 0.2848 - val_loss: 2.5464 - val_accuracy: 0.2862\n",
            "Epoch 3/10\n",
            "305/305 [==============================] - 381s 1s/step - loss: 2.3148 - accuracy: 0.3330 - val_loss: 2.5874 - val_accuracy: 0.2967\n",
            "Epoch 4/10\n",
            "305/305 [==============================] - 384s 1s/step - loss: 2.0959 - accuracy: 0.3856 - val_loss: 2.5631 - val_accuracy: 0.3045\n",
            "Epoch 5/10\n",
            "305/305 [==============================] - 383s 1s/step - loss: 1.8688 - accuracy: 0.4467 - val_loss: 2.7065 - val_accuracy: 0.3063\n",
            "Epoch 6/10\n",
            "305/305 [==============================] - 382s 1s/step - loss: 1.6728 - accuracy: 0.4999 - val_loss: 2.7884 - val_accuracy: 0.3027\n",
            "Epoch 7/10\n",
            "305/305 [==============================] - 387s 1s/step - loss: 1.4612 - accuracy: 0.5560 - val_loss: 2.9312 - val_accuracy: 0.3082\n",
            "Epoch 8/10\n",
            "305/305 [==============================] - 382s 1s/step - loss: 1.2710 - accuracy: 0.6098 - val_loss: 3.2151 - val_accuracy: 0.3035\n",
            "Epoch 9/10\n",
            "305/305 [==============================] - 381s 1s/step - loss: 1.0957 - accuracy: 0.6616 - val_loss: 3.5383 - val_accuracy: 0.2977\n",
            "Epoch 10/10\n",
            "305/305 [==============================] - 381s 1s/step - loss: 0.9442 - accuracy: 0.7024 - val_loss: 3.7586 - val_accuracy: 0.2936\n",
            "Model: \"sequential_5\"\n",
            "_________________________________________________________________\n",
            "Layer (type)                 Output Shape              Param #   \n",
            "=================================================================\n",
            "embedding_5 (Embedding)      (None, 128, 30)           635670    \n",
            "_________________________________________________________________\n",
            "conv1d_3 (Conv1D)            (None, 128, 32)           2912      \n",
            "_________________________________________________________________\n",
            "bidirectional_7 (Bidirection (None, 128, 60)           15120     \n",
            "_________________________________________________________________\n",
            "dense_15 (Dense)             (None, 128, 1024)         62464     \n",
            "_________________________________________________________________\n",
            "dense_16 (Dense)             (None, 128, 1024)         1049600   \n",
            "_________________________________________________________________\n",
            "module_wrapper_5 (ModuleWrap (None, 131072)            0         \n",
            "_________________________________________________________________\n",
            "dense_17 (Dense)             (None, 40)                5242920   \n",
            "=================================================================\n",
            "Total params: 7,008,686\n",
            "Trainable params: 6,373,016\n",
            "Non-trainable params: 635,670\n",
            "_________________________________________________________________\n"
          ],
          "name": "stdout"
        }
      ]
    },
    {
      "cell_type": "markdown",
      "metadata": {
        "id": "Xc9nOFCsq_H1"
      },
      "source": [
        "**Visualizing Model History2 for loss(Word2vec)**"
      ]
    },
    {
      "cell_type": "code",
      "metadata": {
        "colab": {
          "base_uri": "https://localhost:8080/",
          "height": 295
        },
        "id": "bdK_3FPppznF",
        "outputId": "81d135bb-c31c-423a-d40f-725e383ccabb"
      },
      "source": [
        "plt.plot(history2_Word2vec.history['loss'])\n",
        "plt.plot(history2_Word2vec.history['val_loss'])\n",
        "plt.title('model loss')\n",
        "plt.ylabel('loss')\n",
        "plt.xlabel('epoch')\n",
        "plt.legend(['train', 'test'], loc='upper left')\n",
        "plt.show()"
      ],
      "execution_count": null,
      "outputs": [
        {
          "output_type": "display_data",
          "data": {
            "image/png": "[encoded data removed]",
            "text/plain": [
              "<Figure size 432x288 with 1 Axes>"
            ]
          },
          "metadata": {
            "tags": [],
            "needs_background": "light"
          }
        }
      ]
    },
    {
      "cell_type": "markdown",
      "metadata": {
        "id": "uI9mIpRLrc_i"
      },
      "source": [
        "**Visualizing Model History2 for accuracy(Word2vec)**\n"
      ]
    },
    {
      "cell_type": "code",
      "metadata": {
        "colab": {
          "base_uri": "https://localhost:8080/",
          "height": 295
        },
        "id": "BFr5znJurMht",
        "outputId": "c4da4845-e9c5-4133-f8ba-03614fc6205b"
      },
      "source": [
        "plt.plot(history2_Word2vec.history['accuracy'])\n",
        "plt.plot(history2_Word2vec.history['val_accuracy'])\n",
        "plt.title('model accuracy')\n",
        "plt.ylabel('accuracy')\n",
        "plt.xlabel('epoch')\n",
        "plt.legend(['train', 'test'], loc='upper left')\n",
        "plt.show()"
      ],
      "execution_count": null,
      "outputs": [
        {
          "output_type": "display_data",
          "data": {
            "image/png": "[encoded data removed]",
            "text/plain": [
              "<Figure size 432x288 with 1 Axes>"
            ]
          },
          "metadata": {
            "tags": [],
            "needs_background": "light"
          }
        }
      ]
    },
    {
      "cell_type": "markdown",
      "metadata": {
        "id": "zufOoxTNeC5H"
      },
      "source": [
        "**Bidirectional LSTM(Glove)**"
      ]
    },
    {
      "cell_type": "code",
      "metadata": {
        "id": "oFULVA_keKWp",
        "colab": {
          "base_uri": "https://localhost:8080/"
        },
        "outputId": "ea750145-3457-43f4-a457-27a819c13345"
      },
      "source": [
        "model1 = Sequential()\n",
        "model1.add(Embedding(max_vocab_size,\n",
        " 30,\n",
        " weights=[embedding_matrix_glove],\n",
        " input_length=max_length,\n",
        " trainable=False))\n",
        "model1.add(Bidirectional(LSTM(30, return_sequences=True)))\n",
        "model1.add(Dropout(0.2))\n",
        "model1.add(Bidirectional(LSTM(30, return_sequences=True)))\n",
        "model1.add(Dense(1024, activation='relu'))\n",
        "model1.add(Dropout(0.2))\n",
        "model1.add(Dense(64, activation='relu'))\n",
        "model1.add(tf.keras.layers.Flatten())\n",
        "model1.add(Dense(40, activation='softmax'))\n",
        "model1.compile(loss=tf.keras.losses.SparseCategoricalCrossentropy(), optimizer='nadam', metrics=['accuracy'])\n",
        "history1_glove = model1.fit(xtrain_tf ,ytrain_tf, batch_size=64, epochs=10, verbose=1, validation_data=(xtest_tf, ytest_tf))\n",
        "model1.summary()"
      ],
      "execution_count": null,
      "outputs": [
        {
          "output_type": "stream",
          "text": [
            "Epoch 1/10\n",
            "305/305 [==============================] - 563s 2s/step - loss: 3.6562 - accuracy: 0.0610 - val_loss: 3.5688 - val_accuracy: 0.0785\n",
            "Epoch 2/10\n",
            "305/305 [==============================] - 544s 2s/step - loss: 3.5461 - accuracy: 0.0741 - val_loss: 3.4946 - val_accuracy: 0.0785\n",
            "Epoch 3/10\n",
            "305/305 [==============================] - 545s 2s/step - loss: 3.4821 - accuracy: 0.0772 - val_loss: 3.4488 - val_accuracy: 0.0785\n",
            "Epoch 4/10\n",
            "305/305 [==============================] - 545s 2s/step - loss: 3.4427 - accuracy: 0.0778 - val_loss: 3.4213 - val_accuracy: 0.0785\n",
            "Epoch 5/10\n",
            "305/305 [==============================] - 552s 2s/step - loss: 3.4203 - accuracy: 0.0761 - val_loss: 3.4048 - val_accuracy: 0.0785\n",
            "Epoch 6/10\n",
            "305/305 [==============================] - 539s 2s/step - loss: 3.4047 - accuracy: 0.0758 - val_loss: 3.3949 - val_accuracy: 0.0785\n",
            "Epoch 7/10\n",
            "305/305 [==============================] - 530s 2s/step - loss: 3.3907 - accuracy: 0.0813 - val_loss: 3.3888 - val_accuracy: 0.0785\n",
            "Epoch 8/10\n",
            " 68/305 [=====>........................] - ETA: 6:39 - loss: 3.4073 - accuracy: 0.0825"
          ],
          "name": "stdout"
        }
      ]
    },
    {
      "cell_type": "markdown",
      "metadata": {
        "id": "buEQIuTzfBg0"
      },
      "source": [
        "**Visualizing Model History1 for loss(Glove)**"
      ]
    },
    {
      "cell_type": "code",
      "metadata": {
        "id": "2g5SeNc6fEjX",
        "colab": {
          "base_uri": "https://localhost:8080/",
          "height": 295
        },
        "outputId": "6804d813-103e-431b-ec35-c55465b2bfa2"
      },
      "source": [
        "import matplotlib.pyplot as plt\n",
        "plt.plot(history1_glove.history['loss'])\n",
        "plt.plot(history1_glove.history['val_loss'])\n",
        "plt.title('model loss')\n",
        "plt.ylabel('loss')\n",
        "plt.xlabel('epoch')\n",
        "plt.legend(['train', 'test'], loc='upper left')\n",
        "plt.show()"
      ],
      "execution_count": null,
      "outputs": [
        {
          "output_type": "display_data",
          "data": {
            "image/png": "[encoded data removed]",
            "text/plain": [
              "<Figure size 432x288 with 1 Axes>"
            ]
          },
          "metadata": {
            "tags": [],
            "needs_background": "light"
          }
        }
      ]
    },
    {
      "cell_type": "markdown",
      "metadata": {
        "id": "Y9u0ZjnPfXHv"
      },
      "source": [
        "**Visualizing Model History1 for accuracy(Glove)**"
      ]
    },
    {
      "cell_type": "code",
      "metadata": {
        "id": "l3yhEcHHgGgm",
        "colab": {
          "base_uri": "https://localhost:8080/",
          "height": 295
        },
        "outputId": "566b7478-7861-45a8-d532-9557afe11972"
      },
      "source": [
        "plt.plot(history1_glove.history['accuracy'])\n",
        "plt.plot(history1_glove.history['val_accuracy'])\n",
        "plt.title('model accuracy')\n",
        "plt.ylabel('accuracy')\n",
        "plt.xlabel('epoch')\n",
        "plt.legend(['train', 'test'], loc='upper left')\n",
        "plt.show()"
      ],
      "execution_count": null,
      "outputs": [
        {
          "output_type": "display_data",
          "data": {
            "image/png": "[encoded data removed]",
            "text/plain": [
              "<Figure size 432x288 with 1 Axes>"
            ]
          },
          "metadata": {
            "tags": [],
            "needs_background": "light"
          }
        }
      ]
    },
    {
      "cell_type": "markdown",
      "metadata": {
        "id": "TOc9BzYevZa2"
      },
      "source": [
        "**CNN-LSTM joined Model(Glove)**"
      ]
    },
    {
      "cell_type": "code",
      "metadata": {
        "id": "5mZ7aLQdvLW7",
        "colab": {
          "base_uri": "https://localhost:8080/",
          "height": 225
        },
        "outputId": "81e4d4c5-3c25-424a-b2be-b3203c121c49"
      },
      "source": [
        "CNNmodel = Sequential()\n",
        "CNNmodel.add(Embedding(max_vocab_size,\n",
        " 30,\n",
        " weights=[embedding_matrix_glove],\n",
        " input_length=max_length,\n",
        " trainable=False))\n",
        "CNNmodel.add(Conv1D(filters=32, kernel_size=3, padding='same', activation='relu'))\n",
        "CNNmodel.add(Bidirectional(LSTM(30, dropout=0.3, recurrent_dropout=0.3, return_sequences=True)))\n",
        "CNNmodel.add(Dense(1024, activation='relu'))\n",
        "CNNmodel.add(Dense(1024, activation='relu'))\n",
        "CNNmodel.add(tf.keras.layers.Flatten())\n",
        "CNNmodel.add(Dense(40, activation='softmax'))\n",
        "CNNmodel.compile(loss=tf.keras.losses.SparseCategoricalCrossentropy(), optimizer='nadam', metrics=['accuracy'])\n",
        "history2_glove = CNNmodel.fit(xtrain_tf ,ytrain_tf, batch_size=64, epochs=10, verbose=1, validation_data=(xtest_tf, ytest_tf))\n",
        "CNNmodel.summary()"
      ],
      "execution_count": null,
      "outputs": [
        {
          "output_type": "error",
          "ename": "NameError",
          "evalue": "ignored",
          "traceback": [
            "\u001b[0;31m---------------------------------------------------------------------------\u001b[0m",
            "\u001b[0;31mNameError\u001b[0m                                 Traceback (most recent call last)",
            "\u001b[0;32m<ipython-input-34-5bc14bef2513>\u001b[0m in \u001b[0;36m<module>\u001b[0;34m()\u001b[0m\n\u001b[1;32m     12\u001b[0m \u001b[0mCNNmodel\u001b[0m\u001b[0;34m.\u001b[0m\u001b[0madd\u001b[0m\u001b[0;34m(\u001b[0m\u001b[0mDense\u001b[0m\u001b[0;34m(\u001b[0m\u001b[0;36m40\u001b[0m\u001b[0;34m,\u001b[0m \u001b[0mactivation\u001b[0m\u001b[0;34m=\u001b[0m\u001b[0;34m'softmax'\u001b[0m\u001b[0;34m)\u001b[0m\u001b[0;34m)\u001b[0m\u001b[0;34m\u001b[0m\u001b[0;34m\u001b[0m\u001b[0m\n\u001b[1;32m     13\u001b[0m \u001b[0mCNNmodel\u001b[0m\u001b[0;34m.\u001b[0m\u001b[0mcompile\u001b[0m\u001b[0;34m(\u001b[0m\u001b[0mloss\u001b[0m\u001b[0;34m=\u001b[0m\u001b[0mtf\u001b[0m\u001b[0;34m.\u001b[0m\u001b[0mkeras\u001b[0m\u001b[0;34m.\u001b[0m\u001b[0mlosses\u001b[0m\u001b[0;34m.\u001b[0m\u001b[0mSparseCategoricalCrossentropy\u001b[0m\u001b[0;34m(\u001b[0m\u001b[0;34m)\u001b[0m\u001b[0;34m,\u001b[0m \u001b[0moptimizer\u001b[0m\u001b[0;34m=\u001b[0m\u001b[0;34m'nadam'\u001b[0m\u001b[0;34m,\u001b[0m \u001b[0mmetrics\u001b[0m\u001b[0;34m=\u001b[0m\u001b[0;34m[\u001b[0m\u001b[0;34m'accuracy'\u001b[0m\u001b[0;34m]\u001b[0m\u001b[0;34m)\u001b[0m\u001b[0;34m\u001b[0m\u001b[0;34m\u001b[0m\u001b[0m\n\u001b[0;32m---> 14\u001b[0;31m \u001b[0mhistory2_glove\u001b[0m \u001b[0;34m=\u001b[0m \u001b[0mCNNmodel\u001b[0m\u001b[0;34m.\u001b[0m\u001b[0mfit\u001b[0m\u001b[0;34m(\u001b[0m\u001b[0mxtrain_tf\u001b[0m \u001b[0;34m,\u001b[0m\u001b[0mytrain_tf\u001b[0m\u001b[0;34m,\u001b[0m \u001b[0mbatch_size\u001b[0m\u001b[0;34m=\u001b[0m\u001b[0;36m64\u001b[0m\u001b[0;34m,\u001b[0m \u001b[0mepochs\u001b[0m\u001b[0;34m=\u001b[0m\u001b[0;36m10\u001b[0m\u001b[0;34m,\u001b[0m \u001b[0mverbose\u001b[0m\u001b[0;34m=\u001b[0m\u001b[0;36m1\u001b[0m\u001b[0;34m,\u001b[0m \u001b[0mvalidation_data\u001b[0m\u001b[0;34m=\u001b[0m\u001b[0;34m(\u001b[0m\u001b[0mxtest_tf\u001b[0m\u001b[0;34m,\u001b[0m \u001b[0mytest_tf\u001b[0m\u001b[0;34m)\u001b[0m\u001b[0;34m)\u001b[0m\u001b[0;34m\u001b[0m\u001b[0;34m\u001b[0m\u001b[0m\n\u001b[0m\u001b[1;32m     15\u001b[0m \u001b[0mCNNmodel\u001b[0m\u001b[0;34m.\u001b[0m\u001b[0msummary\u001b[0m\u001b[0;34m(\u001b[0m\u001b[0;34m)\u001b[0m\u001b[0;34m\u001b[0m\u001b[0;34m\u001b[0m\u001b[0m\n",
            "\u001b[0;31mNameError\u001b[0m: name 'xtrain_tf' is not defined"
          ]
        }
      ]
    },
    {
      "cell_type": "markdown",
      "metadata": {
        "id": "0m6uBk3YgZQu"
      },
      "source": [
        "**Visualizing Model History2 for loss(Glove)**"
      ]
    },
    {
      "cell_type": "code",
      "metadata": {
        "id": "Wu1fyg5Cghd_",
        "colab": {
          "base_uri": "https://localhost:8080/",
          "height": 295
        },
        "outputId": "210787d4-c2cf-45c6-8092-3d9a60f7df28"
      },
      "source": [
        "import matplotlib.pyplot as plt\n",
        "plt.plot(history2_glove.history['loss'])\n",
        "plt.plot(history2_glove.history['val_loss'])\n",
        "plt.title('model loss')\n",
        "plt.ylabel('loss')\n",
        "plt.xlabel('epoch')\n",
        "plt.legend(['train', 'test'], loc='upper left')\n",
        "plt.show()"
      ],
      "execution_count": null,
      "outputs": [
        {
          "output_type": "display_data",
          "data": {
            "image/png": "[encoded data removed]",
            "text/plain": [
              "<Figure size 432x288 with 1 Axes>"
            ]
          },
          "metadata": {
            "tags": [],
            "needs_background": "light"
          }
        }
      ]
    },
    {
      "cell_type": "markdown",
      "metadata": {
        "id": "elXwIm7IguLH"
      },
      "source": [
        "**Visualizing Model History2 for accuracy(Glove)**"
      ]
    },
    {
      "cell_type": "code",
      "metadata": {
        "id": "TydSVli_gx6v",
        "colab": {
          "base_uri": "https://localhost:8080/",
          "height": 295
        },
        "outputId": "086aa756-60c6-4894-d637-b162c238205c"
      },
      "source": [
        "import matplotlib.pyplot as plt\n",
        "plt.plot(history2_glove.history['accuracy'])\n",
        "plt.plot(history2_glove.history['val_accuracy'])\n",
        "plt.title('model accuracy')\n",
        "plt.ylabel('accuracy')\n",
        "plt.xlabel('epoch')\n",
        "plt.legend(['train', 'test'], loc='upper left')\n",
        "plt.show()"
      ],
      "execution_count": null,
      "outputs": [
        {
          "output_type": "display_data",
          "data": {
            "image/png": "[encoded data removed]",
            "text/plain": [
              "<Figure size 432x288 with 1 Axes>"
            ]
          },
          "metadata": {
            "tags": [],
            "needs_background": "light"
          }
        }
      ]
    }
  ]
}